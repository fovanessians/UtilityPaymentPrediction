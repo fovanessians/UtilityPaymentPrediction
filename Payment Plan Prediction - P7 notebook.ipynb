{
    "cells": [
        {
            "metadata": {},
            "cell_type": "markdown",
            "source": "## <span style=\"color:darkgreen\">IBM Watson AutoAI - Generated Scikit-learn Notebook v1.14.4</span>\n\nConsider these tips for working with an auto-generated notebook:\n- Notebook code generated using AutoAI will execute successfully. If you modify the notebook, we cannot guarantee it will run successfully.\n- This pipeline is optimized for the original data set. The pipeline might fail or produce sub-optimum results if used with different data.  If you want to use a different data set, consider retraining the AutoAI experiment to generate a new pipeline. For more information, see <a href=\"https://dataplatform.cloud.ibm.com/docs/content/wsj/analyze-data/autoai-notebook.html\">Cloud Platform</a> \n- Before modifying the pipeline or trying to re-fit the pipeline, consider that the code converts dataframes to numpy arrays before fitting the pipeline (a current restriction of the preprocessor pipeline).\n"
        },
        {
            "metadata": {},
            "cell_type": "markdown",
            "source": "<a id=\"content\"></a>\n## Notebook content\n\nThis notebook contains a Scikit-learn representation of AutoAI pipeline. This notebook introduces commands for getting data, training the model, and testing the model. \n\nSome familiarity with Python is helpful. This notebook uses Python 3.7 and scikit-learn 0.23.1."
        },
        {
            "metadata": {
                "pycharm": {
                    "name": "#%% md\n"
                }
            },
            "cell_type": "markdown",
            "source": "## Notebook goals\n\n-  Scikit-learn pipeline definition\n-  Pipeline training \n-  Pipeline evaluation\n\n## Contents\n\nThis notebook contains the following parts:\n\n**[Setup](#setup)**      \n&nbsp;&nbsp;[Package installation](#install)   \n&nbsp;&nbsp;[AutoAI experiment metadata](#variables_definition)   \n**[Pipeline inspection](#inspection)**      \n&nbsp;&nbsp;[Read training data](#read)    \n&nbsp;&nbsp;[Train and test data split](#split)    \n&nbsp;&nbsp;[Make pipeline](#preview_model_to_python_code)      \n&nbsp;&nbsp;[Train pipeline model](#train)  \n&nbsp;&nbsp;[Test pipeline model](#test_model)  \n**[Next steps](#next_steps)**   \n**[Copyrights](#copyrights)**"
        },
        {
            "metadata": {},
            "cell_type": "markdown",
            "source": "<a id=\"setup\"></a>\n# Setup"
        },
        {
            "metadata": {},
            "cell_type": "markdown",
            "source": "<a id=\"install\"></a>\n## Package installation\nBefore you use the sample code in this notebook, install the following packages:\n - ibm_watson_machine_learning,\n - autoai-libs.\n"
        },
        {
            "metadata": {
                "execution": {
                    "iopub.execute_input": "2020-10-12T14:00:45.009458Z",
                    "iopub.status.busy": "2020-10-12T14:00:45.007968Z",
                    "iopub.status.idle": "2020-10-12T14:00:46.037702Z",
                    "shell.execute_reply": "2020-10-12T14:00:46.038270Z"
                },
                "pycharm": {
                    "name": "#%%\n"
                },
                "scrolled": true
            },
            "cell_type": "code",
            "source": "!pip install ibm-watson-machine-learning | tail -n 1\n!pip install -U autoai-libs | tail -n 1",
            "execution_count": 1,
            "outputs": [
                {
                    "output_type": "stream",
                    "text": "Requirement already satisfied: docutils<0.16,>=0.10 in /opt/conda/envs/Python-3.7-main/lib/python3.7/site-packages (from ibm-cos-sdk-core==2.7.0->ibm-cos-sdk==2.7.*->ibm-watson-machine-learning) (0.15.2)\nSuccessfully installed autoai-libs-1.12.4 pandas-0.25.3\n",
                    "name": "stdout"
                }
            ]
        },
        {
            "metadata": {},
            "cell_type": "markdown",
            "source": "<a id=\"variables_definition\"></a>\n## AutoAI experiment metadata\nThe following cell contains the training data connection details.  \n**Note**: The connection might contain authorization credentials, so be careful when sharing the notebook."
        },
        {
            "metadata": {
                "execution": {
                    "iopub.execute_input": "2020-10-12T14:00:49.797633Z",
                    "iopub.status.busy": "2020-10-12T14:00:49.796778Z",
                    "iopub.status.idle": "2020-10-12T14:00:57.182715Z",
                    "shell.execute_reply": "2020-10-12T14:00:57.183132Z"
                },
                "pycharm": {
                    "is_executing": true
                }
            },
            "cell_type": "code",
            "source": "# @hidden_cell\nfrom ibm_watson_machine_learning.helpers import DataConnection, S3Connection, S3Location\n\ntraining_data_reference = [DataConnection(\n    connection=S3Connection(\n        api_key='ZLWT8yBNpBtpd3VBQ6BOLVOUOZNNrv9doE1HBb7e_utI',\n        auth_endpoint='https://iam.bluemix.net/oidc/token/',\n        endpoint_url='https://s3-api.us-geo.objectstorage.softlayer.net'\n    ),\n        location=S3Location(\n        bucket='paymentplanprediction-donotdelete-pr-t89pyddzg6ashw',\n        path='historical_payments_customer_detail_balanced.csv'\n    )),\n]\ntraining_result_reference = DataConnection(\n    connection=S3Connection(\n        api_key='ZLWT8yBNpBtpd3VBQ6BOLVOUOZNNrv9doE1HBb7e_utI',\n        auth_endpoint='https://iam.bluemix.net/oidc/token/',\n        endpoint_url='https://s3-api.us-geo.objectstorage.softlayer.net'\n    ),\n    location=S3Location(\n        bucket='paymentplanprediction-donotdelete-pr-t89pyddzg6ashw',\n        path='auto_ml/9efe943b-1e50-4294-9bb2-fec5b02d39d4/wml_data/9cb7e736-4ffb-4240-831c-7040d2ed675c/data/automl',\n        model_location='auto_ml/9efe943b-1e50-4294-9bb2-fec5b02d39d4/wml_data/9cb7e736-4ffb-4240-831c-7040d2ed675c/data/automl/cognito_output/Pipeline5/model.pickle',\n        training_status='auto_ml/9efe943b-1e50-4294-9bb2-fec5b02d39d4/wml_data/9cb7e736-4ffb-4240-831c-7040d2ed675c/training-status.json'\n    ))",
            "execution_count": 2,
            "outputs": []
        },
        {
            "metadata": {},
            "cell_type": "markdown",
            "source": "Following cell contains input parameters provided to run the AutoAI experiment in Watson Studio."
        },
        {
            "metadata": {
                "execution": {
                    "iopub.execute_input": "2020-10-12T14:00:57.187305Z",
                    "iopub.status.busy": "2020-10-12T14:00:57.186602Z",
                    "iopub.status.idle": "2020-10-12T14:00:57.188392Z",
                    "shell.execute_reply": "2020-10-12T14:00:57.188878Z"
                },
                "pycharm": {
                    "name": "#%%\n"
                }
            },
            "cell_type": "code",
            "source": "experiment_metadata = dict(\n   prediction_type='classification',\n   prediction_column='MISSED_PAYMENT',\n   test_size=0.1,\n   scoring='accuracy',\n   project_id='3a43d8dd-4a82-444b-af95-97b8dee5c72e',\n   space_id='None',\n   deployment_url='https://us-south.ml.cloud.ibm.com',\n   csv_separator=',',\n   random_state=33,\n   max_number_of_estimators=2,\n   daub_include_only_estimators=None,\n   training_data_reference=training_data_reference,\n   training_result_reference=training_result_reference,\n   positive_label='Missed Payment'\n)",
            "execution_count": 3,
            "outputs": []
        },
        {
            "metadata": {},
            "cell_type": "markdown",
            "source": "<a id=\"inspection\"></a>\n# Pipeline inspection"
        },
        {
            "metadata": {
                "pycharm": {
                    "name": "#%% md\n"
                }
            },
            "cell_type": "markdown",
            "source": "<a id=\"read\"></a>\n## Read training data\n\nRetrieve training dataset from AutoAI experiment as pandas DataFrame."
        },
        {
            "metadata": {
                "execution": {
                    "iopub.execute_input": "2020-10-12T14:01:16.076169Z",
                    "iopub.status.busy": "2020-10-12T14:01:16.075589Z",
                    "iopub.status.idle": "2020-10-12T14:01:19.190233Z",
                    "shell.execute_reply": "2020-10-12T14:01:19.190807Z"
                },
                "pycharm": {
                    "is_executing": true,
                    "name": "#%%\n"
                }
            },
            "cell_type": "code",
            "source": "df = training_data_reference[0].read(csv_separator=experiment_metadata['csv_separator'])\ndf.dropna('rows', how='any', subset=[experiment_metadata['prediction_column']], inplace=True)",
            "execution_count": 4,
            "outputs": []
        },
        {
            "metadata": {},
            "cell_type": "markdown",
            "source": "<a id=\"split\"></a>\n##  Train and test data split"
        },
        {
            "metadata": {
                "pycharm": {
                    "is_executing": true
                }
            },
            "cell_type": "code",
            "source": "from sklearn.model_selection import train_test_split\n\ndf.drop_duplicates(inplace=True)\nX = df.drop([experiment_metadata['prediction_column']], axis=1).values\ny = df[experiment_metadata['prediction_column']].values\n\ntrain_X, test_X, train_y, test_y = train_test_split(X, y, test_size=experiment_metadata['test_size'],\n                                                    stratify=y, random_state=experiment_metadata['random_state'])",
            "execution_count": 5,
            "outputs": []
        },
        {
            "metadata": {
                "pycharm": {
                    "name": "#%% md\n"
                }
            },
            "cell_type": "markdown",
            "source": "<a id=\"preview_model_to_python_code\"></a>\n## Make pipeline\nIn the next cell, you can find the Scikit-learn definition of the selected AutoAI pipeline."
        },
        {
            "metadata": {},
            "cell_type": "markdown",
            "source": "Import statements."
        },
        {
            "metadata": {
                "pycharm": {
                    "is_executing": true,
                    "name": "#%%\n"
                }
            },
            "cell_type": "code",
            "source": "from autoai_libs.transformers.exportable import ColumnSelector\nfrom autoai_libs.transformers.exportable import NumpyColumnSelector\nfrom autoai_libs.transformers.exportable import CompressStrings\nfrom autoai_libs.transformers.exportable import NumpyReplaceMissingValues\nfrom autoai_libs.transformers.exportable import NumpyReplaceUnknownValues\nfrom autoai_libs.transformers.exportable import boolean2float\nfrom autoai_libs.transformers.exportable import CatImputer\nfrom autoai_libs.transformers.exportable import CatEncoder\nimport numpy as np\nfrom autoai_libs.transformers.exportable import float32_transform\nfrom sklearn.pipeline import make_pipeline\nfrom autoai_libs.transformers.exportable import FloatStr2Float\nfrom autoai_libs.transformers.exportable import NumImputer\nfrom autoai_libs.transformers.exportable import OptStandardScaler\nfrom sklearn.pipeline import make_union\nfrom autoai_libs.transformers.exportable import NumpyPermuteArray\nfrom autoai_libs.cognito.transforms.transform_utils import TA1\nimport autoai_libs.utils.fc_methods\nfrom autoai_libs.cognito.transforms.transform_utils import FS1\nfrom sklearn.tree import DecisionTreeClassifier",
            "execution_count": 6,
            "outputs": []
        },
        {
            "metadata": {},
            "cell_type": "markdown",
            "source": "#### Pre-processing & Estimator."
        },
        {
            "metadata": {
                "pycharm": {
                    "is_executing": true,
                    "name": "#%%\n"
                }
            },
            "cell_type": "code",
            "source": "column_selector = ColumnSelector(\n    columns_indices_list=[\n        1,\n        2,\n        3,\n        4,\n        5,\n        6,\n        7,\n        8,\n        9,\n        10,\n        11,\n        16,\n        17,\n        18,\n        19,\n        20,\n        21,\n        22,\n        23,\n        24,\n        25,\n        26,\n        27,\n        28,\n        29,\n        30,\n        31,\n        32,\n        33,\n        34,\n        35,\n        36,\n        37,\n        38,\n        40,\n        45,\n        46,\n    ]\n)\nnumpy_column_selector_0 = NumpyColumnSelector(\n    columns=[\n        2,\n        11,\n        12,\n        13,\n        14,\n        15,\n        16,\n        17,\n        18,\n        19,\n        20,\n        21,\n        22,\n        23,\n        24,\n        25,\n        26,\n        27,\n        28,\n        29,\n        30,\n        31,\n        32,\n        35,\n        36,\n    ]\n)\ncompress_strings = CompressStrings(\n    compress_type=\"hash\",\n    dtypes_list=[\n        \"char_str\",\n        \"int_num\",\n        \"int_num\",\n        \"int_num\",\n        \"int_num\",\n        \"int_num\",\n        \"int_num\",\n        \"int_num\",\n        \"int_num\",\n        \"char_str\",\n        \"int_num\",\n        \"int_num\",\n        \"int_num\",\n        \"int_num\",\n        \"int_num\",\n        \"int_num\",\n        \"char_str\",\n        \"char_str\",\n        \"char_str\",\n        \"char_str\",\n        \"char_str\",\n        \"char_str\",\n        \"int_num\",\n        \"int_num\",\n        \"char_str\",\n    ],\n    missing_values_reference_list=[\"\", \"-\", \"?\", float(\"nan\")],\n    misslist_list=[\n        [],\n        [],\n        [],\n        [],\n        [],\n        [],\n        [],\n        [],\n        [],\n        [],\n        [],\n        [],\n        [],\n        [],\n        [],\n        [],\n        [],\n        [],\n        [],\n        [],\n        [],\n        [],\n        [],\n        [],\n        [],\n    ],\n)\nnumpy_replace_missing_values_0 = NumpyReplaceMissingValues(\n    missing_values=[], filling_values=float(\"nan\")\n)\nnumpy_replace_unknown_values = NumpyReplaceUnknownValues(\n    filling_values=float(\"nan\"),\n    filling_values_list=[\n        float(\"nan\"),\n        float(\"nan\"),\n        float(\"nan\"),\n        float(\"nan\"),\n        float(\"nan\"),\n        float(\"nan\"),\n        float(\"nan\"),\n        float(\"nan\"),\n        float(\"nan\"),\n        float(\"nan\"),\n        float(\"nan\"),\n        float(\"nan\"),\n        float(\"nan\"),\n        float(\"nan\"),\n        float(\"nan\"),\n        float(\"nan\"),\n        float(\"nan\"),\n        float(\"nan\"),\n        float(\"nan\"),\n        float(\"nan\"),\n        float(\"nan\"),\n        float(\"nan\"),\n        float(\"nan\"),\n        float(\"nan\"),\n        float(\"nan\"),\n    ],\n    known_values_list=[\n        [\n            169836834567204038179966570894283554345,\n            322803543197566830139700178970154925496,\n            209181221264684009591229952740346738033,\n            17788651139535530962259434531561804375,\n            327176509795513342126021012545780561845,\n            77420392375083351592742626634322842842,\n        ],\n        [\n            15,\n            16,\n            17,\n            18,\n            19,\n            20,\n            21,\n            22,\n            23,\n            24,\n            25,\n            26,\n            27,\n            28,\n            29,\n            30,\n            31,\n            32,\n            33,\n            34,\n            35,\n            36,\n            37,\n            38,\n            39,\n            40,\n            41,\n            42,\n            43,\n            44,\n            45,\n            46,\n            47,\n            48,\n            49,\n            50,\n            51,\n            52,\n            53,\n            54,\n            55,\n            56,\n            57,\n            58,\n            59,\n            60,\n            61,\n            63,\n            64,\n            65,\n            66,\n            68,\n            69,\n            70,\n            71,\n            72,\n            74,\n            75,\n            76,\n            77,\n            78,\n            79,\n        ],\n        [0, 1],\n        [0, 1],\n        [0, 1],\n        [0, 1],\n        [0, 1],\n        [0, 1],\n        [0, 1],\n        [\n            339914797681135161069053613952454376331,\n            310682768561293208144752856853279300097,\n            67173585239538071839587539288433045831,\n        ],\n        [0, 1],\n        [0, 1],\n        [0, 1],\n        [0, 1],\n        [0, 1],\n        [0, 1],\n        [\n            307233733497834568525459704737014618558,\n            121370508098484644977732955873471414694,\n            6543286095828419275771321000144814902,\n            48876320958914818052114633595448615891,\n            110469894902109575489983869353176417187,\n        ],\n        [\n            140114708448418632577632402066430035116,\n            124597455836222876990001734982037886062,\n            101526347069924884539065843501838193131,\n        ],\n        [\n            326253301125662860281687750756690785583,\n            273210353247234602564054441676862833744,\n            302290990792076731556337512361380154350,\n            143628117342068315368254630461460844700,\n            249995396699920924073666887213313108912,\n            243201052615821965146514263103464324903,\n            119538630647902979951616946415647563536,\n            261657353565822963585293184140899076613,\n            99651907288817954462213660049441930213,\n        ],\n        [\n            276215275525073243129443018166533317850,\n            314453448426715438145956090661358255141,\n            95319007259848359155306824649621382536,\n            61125751469413322076599764069662232065,\n        ],\n        [\n            315380121665422614716550309578519414425,\n            240512810358043060361441826343089376772,\n            197239169984543494630885295882584127830,\n            20444808171318292122905678980475303515,\n            228859325915791505068217040611500381639,\n            198303222032484114342112753715176650929,\n            277858879624756597381704479412853426130,\n            209700651107874524918013128490797585337,\n            326661061374373185892543585874572058679,\n            180900830972951739246963077271060433534,\n        ],\n        [\n            153486499799404094467727568916354293838,\n            156971208605157160966856555059464064936,\n            128080626020449029580470050252318967524,\n            203128837411296815074725089422714954118,\n            245974085598099695416043785224837302844,\n            23776053449641394854451841780039140909,\n            230267001313728654787380132776226734787,\n        ],\n        [\n            201807,\n            201808,\n            201809,\n            201810,\n            201811,\n            201812,\n            201901,\n            201902,\n            201903,\n            201904,\n            201905,\n            201906,\n        ],\n        [1, 2, 3, 4, 5, 6, 7, 8, 9, 10, 11, 12],\n        [\n            85656995390257636701648734804000448873,\n            132720696610303284419807397392052094621,\n        ],\n    ],\n    missing_values_reference_list=[\"\", \"-\", \"?\", float(\"nan\")],\n)\ncat_imputer = CatImputer(\n    strategy=\"most_frequent\",\n    missing_values=float(\"nan\"),\n    sklearn_version_family=\"23\",\n)\ncat_encoder = CatEncoder(\n    encoding=\"ordinal\",\n    categories=\"auto\",\n    dtype=np.float64,\n    handle_unknown=\"error\",\n    sklearn_version_family=\"23\",\n)\npipeline_0 = make_pipeline(\n    numpy_column_selector_0,\n    compress_strings,\n    numpy_replace_missing_values_0,\n    numpy_replace_unknown_values,\n    boolean2float(),\n    cat_imputer,\n    cat_encoder,\n    float32_transform(),\n)\nnumpy_column_selector_1 = NumpyColumnSelector(\n    columns=[0, 1, 3, 4, 5, 6, 7, 8, 9, 10, 33, 34]\n)\nfloat_str2_float = FloatStr2Float(\n    dtypes_list=[\n        \"float_num\",\n        \"float_num\",\n        \"float_num\",\n        \"float_num\",\n        \"float_num\",\n        \"float_num\",\n        \"float_num\",\n        \"float_num\",\n        \"float_num\",\n        \"float_num\",\n        \"float_num\",\n        \"float_num\",\n    ],\n    missing_values_reference_list=[],\n)\nnumpy_replace_missing_values_1 = NumpyReplaceMissingValues(\n    missing_values=[], filling_values=float(\"nan\")\n)\nnum_imputer = NumImputer(strategy=\"median\", missing_values=float(\"nan\"))\nopt_standard_scaler = OptStandardScaler(\n    num_scaler_copy=None,\n    num_scaler_with_mean=None,\n    num_scaler_with_std=None,\n    use_scaler_flag=False,\n)\npipeline_1 = make_pipeline(\n    numpy_column_selector_1,\n    float_str2_float,\n    numpy_replace_missing_values_1,\n    num_imputer,\n    opt_standard_scaler,\n    float32_transform(),\n)\nunion = make_union(pipeline_0, pipeline_1)\nnumpy_permute_array = NumpyPermuteArray(\n    axis=0,\n    permutation_indices=[\n        2,\n        11,\n        12,\n        13,\n        14,\n        15,\n        16,\n        17,\n        18,\n        19,\n        20,\n        21,\n        22,\n        23,\n        24,\n        25,\n        26,\n        27,\n        28,\n        29,\n        30,\n        31,\n        32,\n        35,\n        36,\n        0,\n        1,\n        3,\n        4,\n        5,\n        6,\n        7,\n        8,\n        9,\n        10,\n        33,\n        34,\n    ],\n)\nta1_0 = TA1(\n    fun=np.sqrt,\n    name=\"sqrt\",\n    datatypes=[\"numeric\"],\n    feat_constraints=[\n        autoai_libs.utils.fc_methods.is_non_negative,\n        autoai_libs.utils.fc_methods.is_not_categorical,\n    ],\n    col_names=[\n        \"OVERDUE_BALANCE\",\n        \"BASE_USAGE\",\n        \"CREDIT_HISTORY\",\n        \"ALTERNATE_USAGE\",\n        \"STANDING_CHARGE\",\n        \"BASE_CHARGE\",\n        \"ALTERNATE_CHARGE\",\n        \"LEVY\",\n        \"TAX\",\n        \"TOTAL_NET\",\n        \"TOTAL_TO_PAY\",\n        \"AGE\",\n        \"IS_REGISTERED_FOR_ALERTS\",\n        \"OWNS_HOME\",\n        \"COMPLAINTS\",\n        \"HAS_THERMOSTAT\",\n        \"HAS_HOME_AUTOMATION\",\n        \"PV_ZONING\",\n        \"WIND_ZONING\",\n        \"SMART_METER_COMMENTS\",\n        \"IS_CAR_OWNER\",\n        \"HAS_EV\",\n        \"HAS_PV\",\n        \"HAS_WIND\",\n        \"EBILL\",\n        \"IN_WARRANTY\",\n        \"CITY\",\n        \"MARITAL_STATUS\",\n        \"EDUCATION\",\n        \"SEGMENT\",\n        \"EMPLOYMENT\",\n        \"BUILDING_TYPE\",\n        \"BILLING_MONTH\",\n        \"RATIO_THIS_MONTH_BASE_USAGE_VS_LAST_MONTH\",\n        \"RATIO_THIS_MONTH_ALTERNATE_USAGE_VS_LAST_MONTH\",\n        \"BILLING_MONTH_NUMBER\",\n        \"Partition\",\n    ],\n    col_dtypes=[\n        np.dtype(\"float32\"),\n        np.dtype(\"float32\"),\n        np.dtype(\"float32\"),\n        np.dtype(\"float32\"),\n        np.dtype(\"float32\"),\n        np.dtype(\"float32\"),\n        np.dtype(\"float32\"),\n        np.dtype(\"float32\"),\n        np.dtype(\"float32\"),\n        np.dtype(\"float32\"),\n        np.dtype(\"float32\"),\n        np.dtype(\"float32\"),\n        np.dtype(\"float32\"),\n        np.dtype(\"float32\"),\n        np.dtype(\"float32\"),\n        np.dtype(\"float32\"),\n        np.dtype(\"float32\"),\n        np.dtype(\"float32\"),\n        np.dtype(\"float32\"),\n        np.dtype(\"float32\"),\n        np.dtype(\"float32\"),\n        np.dtype(\"float32\"),\n        np.dtype(\"float32\"),\n        np.dtype(\"float32\"),\n        np.dtype(\"float32\"),\n        np.dtype(\"float32\"),\n        np.dtype(\"float32\"),\n        np.dtype(\"float32\"),\n        np.dtype(\"float32\"),\n        np.dtype(\"float32\"),\n        np.dtype(\"float32\"),\n        np.dtype(\"float32\"),\n        np.dtype(\"float32\"),\n        np.dtype(\"float32\"),\n        np.dtype(\"float32\"),\n        np.dtype(\"float32\"),\n        np.dtype(\"float32\"),\n    ],\n)\nfs1_0 = FS1(\n    cols_ids_must_keep=range(0, 37),\n    additional_col_count_to_keep=20,\n    ptype=\"classification\",\n)\nta1_1 = TA1(\n    fun=np.square,\n    name=\"square\",\n    datatypes=[\"numeric\"],\n    feat_constraints=[autoai_libs.utils.fc_methods.is_not_categorical],\n    col_names=[\n        \"OVERDUE_BALANCE\",\n        \"BASE_USAGE\",\n        \"CREDIT_HISTORY\",\n        \"ALTERNATE_USAGE\",\n        \"STANDING_CHARGE\",\n        \"BASE_CHARGE\",\n        \"ALTERNATE_CHARGE\",\n        \"LEVY\",\n        \"TAX\",\n        \"TOTAL_NET\",\n        \"TOTAL_TO_PAY\",\n        \"AGE\",\n        \"IS_REGISTERED_FOR_ALERTS\",\n        \"OWNS_HOME\",\n        \"COMPLAINTS\",\n        \"HAS_THERMOSTAT\",\n        \"HAS_HOME_AUTOMATION\",\n        \"PV_ZONING\",\n        \"WIND_ZONING\",\n        \"SMART_METER_COMMENTS\",\n        \"IS_CAR_OWNER\",\n        \"HAS_EV\",\n        \"HAS_PV\",\n        \"HAS_WIND\",\n        \"EBILL\",\n        \"IN_WARRANTY\",\n        \"CITY\",\n        \"MARITAL_STATUS\",\n        \"EDUCATION\",\n        \"SEGMENT\",\n        \"EMPLOYMENT\",\n        \"BUILDING_TYPE\",\n        \"BILLING_MONTH\",\n        \"RATIO_THIS_MONTH_BASE_USAGE_VS_LAST_MONTH\",\n        \"RATIO_THIS_MONTH_ALTERNATE_USAGE_VS_LAST_MONTH\",\n        \"BILLING_MONTH_NUMBER\",\n        \"Partition\",\n        \"sqrt(OVERDUE_BALANCE)\",\n        \"sqrt(BASE_USAGE)\",\n        \"sqrt(ALTERNATE_USAGE)\",\n        \"sqrt(BASE_CHARGE)\",\n        \"sqrt(ALTERNATE_CHARGE)\",\n        \"sqrt(LEVY)\",\n        \"sqrt(TAX)\",\n        \"sqrt(TOTAL_NET)\",\n        \"sqrt(TOTAL_TO_PAY)\",\n        \"sqrt(AGE)\",\n        \"sqrt(RATIO_THIS_MONTH_BASE_USAGE_VS_LAST_MONTH)\",\n        \"sqrt(RATIO_THIS_MONTH_ALTERNATE_USAGE_VS_LAST_MONTH)\",\n    ],\n    col_dtypes=[\n        np.dtype(\"float32\"),\n        np.dtype(\"float32\"),\n        np.dtype(\"float32\"),\n        np.dtype(\"float32\"),\n        np.dtype(\"float32\"),\n        np.dtype(\"float32\"),\n        np.dtype(\"float32\"),\n        np.dtype(\"float32\"),\n        np.dtype(\"float32\"),\n        np.dtype(\"float32\"),\n        np.dtype(\"float32\"),\n        np.dtype(\"float32\"),\n        np.dtype(\"float32\"),\n        np.dtype(\"float32\"),\n        np.dtype(\"float32\"),\n        np.dtype(\"float32\"),\n        np.dtype(\"float32\"),\n        np.dtype(\"float32\"),\n        np.dtype(\"float32\"),\n        np.dtype(\"float32\"),\n        np.dtype(\"float32\"),\n        np.dtype(\"float32\"),\n        np.dtype(\"float32\"),\n        np.dtype(\"float32\"),\n        np.dtype(\"float32\"),\n        np.dtype(\"float32\"),\n        np.dtype(\"float32\"),\n        np.dtype(\"float32\"),\n        np.dtype(\"float32\"),\n        np.dtype(\"float32\"),\n        np.dtype(\"float32\"),\n        np.dtype(\"float32\"),\n        np.dtype(\"float32\"),\n        np.dtype(\"float32\"),\n        np.dtype(\"float32\"),\n        np.dtype(\"float32\"),\n        np.dtype(\"float32\"),\n        np.dtype(\"float32\"),\n        np.dtype(\"float32\"),\n        np.dtype(\"float32\"),\n        np.dtype(\"float32\"),\n        np.dtype(\"float32\"),\n        np.dtype(\"float32\"),\n        np.dtype(\"float32\"),\n        np.dtype(\"float32\"),\n        np.dtype(\"float32\"),\n        np.dtype(\"float32\"),\n        np.dtype(\"float32\"),\n        np.dtype(\"float32\"),\n    ],\n)\nfs1_1 = FS1(\n    cols_ids_must_keep=range(0, 37),\n    additional_col_count_to_keep=20,\n    ptype=\"classification\",\n)\ndecision_tree_classifier = DecisionTreeClassifier(\n    class_weight=\"balanced\",\n    max_depth=4,\n    max_features=0.9991605525579291,\n    min_samples_leaf=5,\n    min_samples_split=4,\n    presort=False,\n    random_state=33,\n)\n",
            "execution_count": 7,
            "outputs": []
        },
        {
            "metadata": {},
            "cell_type": "markdown",
            "source": "Pipeline."
        },
        {
            "metadata": {
                "pycharm": {
                    "is_executing": true,
                    "name": "#%%\n"
                }
            },
            "cell_type": "code",
            "source": "pipeline = make_pipeline(\n    column_selector,\n    union,\n    numpy_permute_array,\n    ta1_0,\n    fs1_0,\n    ta1_1,\n    fs1_1,\n    decision_tree_classifier,\n)",
            "execution_count": 8,
            "outputs": []
        },
        {
            "metadata": {},
            "cell_type": "markdown",
            "source": "<a id=\"train\"></a>\n## Train pipeline model\n"
        },
        {
            "metadata": {},
            "cell_type": "markdown",
            "source": "### Define scorer from the optimization metric\nThis cell constructs the cell scorer based on the experiment metadata."
        },
        {
            "metadata": {
                "pycharm": {
                    "is_executing": true
                }
            },
            "cell_type": "code",
            "source": "from sklearn.metrics import get_scorer\n\nscorer = get_scorer(experiment_metadata['scoring'])",
            "execution_count": 9,
            "outputs": []
        },
        {
            "metadata": {
                "pycharm": {
                    "name": "#%% md\n"
                }
            },
            "cell_type": "markdown",
            "source": "<a id=\"test_model\"></a>\n### Fit pipeline model\nIn this cell, the pipeline is fitted."
        },
        {
            "metadata": {
                "execution": {
                    "iopub.execute_input": "2020-10-12T14:01:19.291734Z",
                    "iopub.status.busy": "2020-10-12T14:01:19.244735Z",
                    "iopub.status.idle": "2020-10-12T14:01:19.338461Z",
                    "shell.execute_reply": "2020-10-12T14:01:19.338958Z"
                },
                "pycharm": {
                    "is_executing": true,
                    "name": "#%%\n"
                },
                "scrolled": true
            },
            "cell_type": "code",
            "source": "pipeline.fit(train_X,train_y)",
            "execution_count": 10,
            "outputs": [
                {
                    "output_type": "execute_result",
                    "execution_count": 10,
                    "data": {
                        "text/plain": "Pipeline(steps=[('columnselector',\n                 ColumnSelector(columns_indices_list=[1, 2, 3, 4, 5, 6, 7, 8, 9,\n                                                      10, 11, 16, 17, 18, 19,\n                                                      20, 21, 22, 23, 24, 25,\n                                                      26, 27, 28, 29, 30, 31,\n                                                      32, 33, 34, ...])),\n                ('featureunion',\n                 FeatureUnion(transformer_list=[('pipeline-1',\n                                                 Pipeline(steps=[('numpycolumnselector',\n                                                                  NumpyColumnSelector(columns=[2,\n                                                                                               11,\n                                                                                               12,\n                                                                                               13,\n                                                                                               14,\n                                                                                               15,\n                                                                                               16,\n                                                                                               17,\n                                                                                               18,\n                                                                                               19,\n                                                                                               20,\n                                                                                               21,\n                                                                                               22,\n                                                                                               23,\n                                                                                               24,\n                                                                                               25,\n                                                                                               26,\n                                                                                               27,\n                                                                                               28,\n                                                                                               29,\n                                                                                               30,...\n                 autoai_libs.cognito.transforms.transform_utils.TA1(fun = numpy.square, name = 'square', datatypes = ['numeric'], feat_constraints = [<cyfunction is_not_categorical at 0x7f2bf8a90870>], tgraph = None, apply_all = True, col_names = ['OVERDUE_BALANCE', 'BASE_USAGE', 'CREDIT_HISTORY', 'ALTERNATE_USAGE', 'STANDING_CHARGE', 'BASE_CHARGE', 'ALTERNATE_CHARGE', 'LEVY', 'TAX', 'TOTAL_NET', 'TOTAL_TO_PAY', 'AGE', 'IS_REGISTERED_FOR_ALERTS', 'OWNS_HOME', 'COMPLAINTS', 'HAS_THERMOSTAT', 'HAS_HOME_AUTOMATION', 'PV_ZONING', 'WIND_ZONING', 'SMART_METER_COMMENTS', 'IS_CAR_OWNER', 'HAS_EV', 'HAS_PV', 'HAS_WIND', 'EBILL', 'IN_WARRANTY', 'CITY', 'MARITAL_STATUS', 'EDUCATION', 'SEGMENT', 'EMPLOYMENT', 'BUILDING_TYPE', 'BILLING_MONTH', 'RATIO_THIS_MONTH_BASE_USAGE_VS_LAST_MONTH', 'RATIO_THIS_MONTH_ALTERNATE_USAGE_VS_LAST_MONTH', 'BILLING_MONTH_NUMBER', 'Partition', 'sqrt(OVERDUE_BALANCE)', 'sqrt(BASE_USAGE)', 'sqrt(ALTERNATE_USAGE)', 'sqrt(BASE_CHARGE)', 'sqrt(ALTERNATE_CHARGE)', 'sqrt(LEVY)', 'sqrt(TAX)', 'sqrt(TOTAL_NET)', 'sqrt(TOTAL_TO_PAY)', 'sqrt(AGE)', 'sqrt(RATIO_THIS_MONTH_BASE_USAGE_VS_LAST_MONTH)', 'sqrt(RATIO_THIS_MONTH_ALTERNATE_USAGE_VS_LAST_MONTH)'], col_dtypes = [dtype('float32'), dtype('float32'), dtype('float32'), dtype('float32'), dtype('float32'), dtype('float32'), dtype('float32'), dtype('float32'), dtype('float32'), dtype('float32'), dtype('float32'), dtype('float32'), dtype('float32'), dtype('float32'), dtype('float32'), dtype('float32'), dtype('float32'), dtype('float32'), dtype('float32'), dtype('float32'), dtype('float32'), dtype('float32'), dtype('float32'), dtype('float32'), dtype('float32'), dtype('float32'), dtype('float32'), dtype('float32'), dtype('float32'), dtype('float32'), dtype('float32'), dtype('float32'), dtype('float32'), dtype('float32'), dtype('float32'), dtype('float32'), dtype('float32'), dtype('float32'), dtype('float32'), dtype('float32'), dtype('float32'), dtype('float32'), dtype('float32'), dtype('float32'), dtype('float32'), dtype('float32'), dtype('float32'), dtype('float32'), dtype('float32')], col_as_json_objects = None)),\n                ('fs1-2',\n                 autoai_libs.cognito.transforms.transform_utils.FS1(cols_ids_must_keep = range(0, 37), additional_col_count_to_keep = 20, ptype = 'classification')),\n                ('decisiontreeclassifier',\n                 DecisionTreeClassifier(class_weight='balanced', max_depth=4,\n                                        max_features=0.9991605525579291,\n                                        min_samples_leaf=5, min_samples_split=4,\n                                        presort=False, random_state=33))])"
                    },
                    "metadata": {}
                }
            ]
        },
        {
            "metadata": {},
            "cell_type": "markdown",
            "source": "<a id=\"test_model\"></a>\n## Test pipeline model"
        },
        {
            "metadata": {},
            "cell_type": "markdown",
            "source": "Score the fitted pipeline with the generated scorer using the holdout dataset."
        },
        {
            "metadata": {
                "execution": {
                    "iopub.execute_input": "2020-10-12T14:02:03.910267Z",
                    "iopub.status.busy": "2020-10-12T14:02:03.909710Z",
                    "iopub.status.idle": "2020-10-12T14:02:03.914154Z",
                    "shell.execute_reply": "2020-10-12T14:02:03.914727Z"
                },
                "pycharm": {
                    "is_executing": true,
                    "name": "#%%\n"
                }
            },
            "cell_type": "code",
            "source": "score = scorer(pipeline, test_X, test_y)\nprint(score)",
            "execution_count": 11,
            "outputs": [
                {
                    "output_type": "stream",
                    "text": "0.8714285714285714\n",
                    "name": "stdout"
                }
            ]
        },
        {
            "metadata": {},
            "cell_type": "markdown",
            "source": "<a id=\"next_steps\"></a>\n# Next steps\n\n#### [Model deployment as webservice](https://github.com/IBM/watson-machine-learning-samples/tree/master/cloud/notebooks/python_sdk/deployments/autoai)\n#### [Run AutoAI experiment with python SDK](https://github.com/IBM/watson-machine-learning-samples/tree/master/cloud/notebooks/python_sdk/experiments/autoai)  "
        },
        {
            "metadata": {
                "pycharm": {
                    "name": "#%% md\n"
                }
            },
            "cell_type": "markdown",
            "source": "<a id=\"copyrights\"></a>\n### Copyrights\n\nLicensed Materials - Copyright \u00a9 2020 IBM. This notebook and its source code are released under the terms of the ILAN License.\nUse, duplication disclosure restricted by GSA ADP Schedule Contract with IBM Corp.\n\n**Note:** The auto-generated notebooks are subject to the International License Agreement for Non-Warranted Programs  \n(or equivalent) and License Information document for Watson Studio Auto-generated Notebook (License Terms),  \nsuch agreements located in the link below. Specifically, the Source Components and Sample Materials clause  \nincluded in the License Information document for Watson Studio Auto-generated Notebook applies to the auto-generated notebooks.  \n\nBy downloading, copying, accessing, or otherwise using the materials, you agree to the <a href=\"http://www14.software.ibm.com/cgi-bin/weblap/lap.pl?li_formnum=L-AMCU-BHU2B7&title=IBM%20Watson%20Studio%20Auto-generated%20Notebook%20V2.1\">License Terms</a>  \n\n___"
        },
        {
            "metadata": {},
            "cell_type": "code",
            "source": "",
            "execution_count": null,
            "outputs": []
        }
    ],
    "metadata": {
        "kernelspec": {
            "name": "python3",
            "display_name": "Python 3.7",
            "language": "python"
        },
        "language_info": {
            "name": "python",
            "version": "3.7.9",
            "mimetype": "text/x-python",
            "codemirror_mode": {
                "name": "ipython",
                "version": 3
            },
            "pygments_lexer": "ipython3",
            "nbconvert_exporter": "python",
            "file_extension": ".py"
        }
    },
    "nbformat": 4,
    "nbformat_minor": 2
}